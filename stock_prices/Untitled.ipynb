{
 "cells": [
  {
   "cell_type": "code",
   "execution_count": 91,
   "metadata": {},
   "outputs": [],
   "source": [
    "def find_max_profit(prices):\n",
    "    profits = []\n",
    "    for i in range(len(prices)-1):\n",
    "        current_index = i\n",
    "        \n",
    "        for j in range(current_index+1, len(prices)):\n",
    "            \n",
    "            if prices[j] > prices[current_index]:\n",
    "                max_price = j\n",
    "                profit = prices[max_price] - prices[current_index]\n",
    "            else:\n",
    "                min_loss = j\n",
    "                profit = prices[min_loss] - prices[current_index]\n",
    "                \n",
    "            profits.append(profit)\n",
    "        print(profits)\n",
    "    return max(profits)\n",
    "                \n",
    "                \n",
    "        \n",
    "    \n",
    "    "
   ]
  },
  {
   "cell_type": "code",
   "execution_count": 96,
   "metadata": {},
   "outputs": [],
   "source": [
    "stock_prices = [100, 90, 80, 50, 20, 10]"
   ]
  },
  {
   "cell_type": "code",
   "execution_count": 97,
   "metadata": {},
   "outputs": [
    {
     "name": "stdout",
     "output_type": "stream",
     "text": [
      "[-10, -20, -50, -80, -90]\n",
      "[-10, -20, -50, -80, -90, -10, -40, -70, -80]\n",
      "[-10, -20, -50, -80, -90, -10, -40, -70, -80, -30, -60, -70]\n",
      "[-10, -20, -50, -80, -90, -10, -40, -70, -80, -30, -60, -70, -30, -40]\n",
      "[-10, -20, -50, -80, -90, -10, -40, -70, -80, -30, -60, -70, -30, -40, -10]\n"
     ]
    },
    {
     "data": {
      "text/plain": [
       "-10"
      ]
     },
     "execution_count": 97,
     "metadata": {},
     "output_type": "execute_result"
    }
   ],
   "source": [
    "find_max_profit(stock_prices)"
   ]
  },
  {
   "cell_type": "code",
   "execution_count": null,
   "metadata": {},
   "outputs": [],
   "source": []
  },
  {
   "cell_type": "markdown",
   "metadata": {},
   "source": [
    "1) Assume you bought at each price at current_index (exclude last index/price)\n",
    "2) Find highest price not including current_index --> find max of unsorted list\n",
    "3) Subtract price at current index from price at max of unsorted list\n",
    "4) Log that in a variable: profit\n",
    "5) If profit[i] > profit[j] --> pass, if profit[i] < profit[j], profit = profit[j]\n"
   ]
  }
 ],
 "metadata": {
  "kernelspec": {
   "display_name": "Python 3",
   "language": "python",
   "name": "python3"
  },
  "language_info": {
   "codemirror_mode": {
    "name": "ipython",
    "version": 3
   },
   "file_extension": ".py",
   "mimetype": "text/x-python",
   "name": "python",
   "nbconvert_exporter": "python",
   "pygments_lexer": "ipython3",
   "version": "3.7.3"
  }
 },
 "nbformat": 4,
 "nbformat_minor": 2
}
