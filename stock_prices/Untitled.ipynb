{
 "cells": [
  {
   "cell_type": "code",
   "execution_count": 48,
   "metadata": {},
   "outputs": [],
   "source": [
    "def find_max_profit(prices):\n",
    "    profits = []\n",
    "    for i in range(len(prices)-1):\n",
    "        current_index = i\n",
    "        for j in range(len(prices)):\n",
    "            max_price = i\n",
    "            if prices[j] > prices[current_index]:\n",
    "                max_price = j\n",
    "            profit = prices[max_price] - prices[current_index]\n",
    "            if profit != 0:\n",
    "                profits.append(profit)\n",
    "    return max(profits)\n",
    "                \n",
    "                \n",
    "        \n",
    "    \n",
    "    "
   ]
  },
  {
   "cell_type": "code",
   "execution_count": 12,
   "metadata": {},
   "outputs": [],
   "source": [
    "stock_prices = [1050, 270, 1540, 3800, 2]"
   ]
  },
  {
   "cell_type": "code",
   "execution_count": 49,
   "metadata": {},
   "outputs": [
    {
     "data": {
      "text/plain": [
       "3530"
      ]
     },
     "execution_count": 49,
     "metadata": {},
     "output_type": "execute_result"
    }
   ],
   "source": [
    "find_max_profit(stock_prices)"
   ]
  },
  {
   "cell_type": "code",
   "execution_count": null,
   "metadata": {},
   "outputs": [],
   "source": []
  },
  {
   "cell_type": "markdown",
   "metadata": {},
   "source": [
    "1) Assume you bought at each price at current_index (exclude last index/price)\n",
    "2) Find highest price not including current_index --> find max of unsorted list\n",
    "3) Subtract price at current index from price at max of unsorted list\n",
    "4) Log that in a variable: profit\n",
    "5) If profit[i] > profit[j] --> pass, if profit[i] < profit[j], profit = profit[j]\n"
   ]
  }
 ],
 "metadata": {
  "kernelspec": {
   "display_name": "Python 3",
   "language": "python",
   "name": "python3"
  },
  "language_info": {
   "codemirror_mode": {
    "name": "ipython",
    "version": 3
   },
   "file_extension": ".py",
   "mimetype": "text/x-python",
   "name": "python",
   "nbconvert_exporter": "python",
   "pygments_lexer": "ipython3",
   "version": "3.7.3"
  }
 },
 "nbformat": 4,
 "nbformat_minor": 2
}
