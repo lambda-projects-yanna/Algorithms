{
 "cells": [
  {
   "cell_type": "code",
   "execution_count": 42,
   "metadata": {},
   "outputs": [],
   "source": [
    "def find_max_profit(prices):\n",
    "# loop through array\n",
    "    profits = []\n",
    "    for i in range(len(prices)-1):\n",
    "        current_index = i\n",
    "        for j in range(len(prices)):\n",
    "            max_price = i\n",
    "            if prices[j] > prices[current_index]:\n",
    "                max_price = j\n",
    "            profit = prices[max_price] - prices[current_index]\n",
    "            if profit != 0:\n",
    "                profits.append(profit)\n",
    "            print(profits)\n",
    "    print(max(profits))\n",
    "                \n",
    "                \n",
    "        \n",
    "    \n",
    "    "
   ]
  },
  {
   "cell_type": "code",
   "execution_count": 12,
   "metadata": {},
   "outputs": [],
   "source": [
    "stock_prices = [1050, 270, 1540, 3800, 2]"
   ]
  },
  {
   "cell_type": "code",
   "execution_count": 43,
   "metadata": {},
   "outputs": [
    {
     "name": "stdout",
     "output_type": "stream",
     "text": [
      "[]\n",
      "[]\n",
      "[490]\n",
      "[490, 2750]\n",
      "[490, 2750]\n",
      "[490, 2750, 780]\n",
      "[490, 2750, 780]\n",
      "[490, 2750, 780, 1270]\n",
      "[490, 2750, 780, 1270, 3530]\n",
      "[490, 2750, 780, 1270, 3530]\n",
      "[490, 2750, 780, 1270, 3530]\n",
      "[490, 2750, 780, 1270, 3530]\n",
      "[490, 2750, 780, 1270, 3530]\n",
      "[490, 2750, 780, 1270, 3530, 2260]\n",
      "[490, 2750, 780, 1270, 3530, 2260]\n",
      "[490, 2750, 780, 1270, 3530, 2260]\n",
      "[490, 2750, 780, 1270, 3530, 2260]\n",
      "[490, 2750, 780, 1270, 3530, 2260]\n",
      "[490, 2750, 780, 1270, 3530, 2260]\n",
      "[490, 2750, 780, 1270, 3530, 2260]\n"
     ]
    },
    {
     "ename": "AttributeError",
     "evalue": "'list' object has no attribute 'max'",
     "output_type": "error",
     "traceback": [
      "\u001b[0;31m---------------------------------------------------------------------------\u001b[0m",
      "\u001b[0;31mAttributeError\u001b[0m                            Traceback (most recent call last)",
      "\u001b[0;32m<ipython-input-43-9ffbed95adb3>\u001b[0m in \u001b[0;36m<module>\u001b[0;34m\u001b[0m\n\u001b[0;32m----> 1\u001b[0;31m \u001b[0mfind_max_profit\u001b[0m\u001b[0;34m(\u001b[0m\u001b[0mstock_prices\u001b[0m\u001b[0;34m)\u001b[0m\u001b[0;34m\u001b[0m\u001b[0;34m\u001b[0m\u001b[0m\n\u001b[0m",
      "\u001b[0;32m<ipython-input-42-87885e182260>\u001b[0m in \u001b[0;36mfind_max_profit\u001b[0;34m(prices)\u001b[0m\n\u001b[1;32m     12\u001b[0m                 \u001b[0mprofits\u001b[0m\u001b[0;34m.\u001b[0m\u001b[0mappend\u001b[0m\u001b[0;34m(\u001b[0m\u001b[0mprofit\u001b[0m\u001b[0;34m)\u001b[0m\u001b[0;34m\u001b[0m\u001b[0;34m\u001b[0m\u001b[0m\n\u001b[1;32m     13\u001b[0m             \u001b[0mprint\u001b[0m\u001b[0;34m(\u001b[0m\u001b[0mprofits\u001b[0m\u001b[0;34m)\u001b[0m\u001b[0;34m\u001b[0m\u001b[0;34m\u001b[0m\u001b[0m\n\u001b[0;32m---> 14\u001b[0;31m     \u001b[0mprint\u001b[0m\u001b[0;34m(\u001b[0m\u001b[0mprofits\u001b[0m\u001b[0;34m.\u001b[0m\u001b[0mmax\u001b[0m\u001b[0;34m(\u001b[0m\u001b[0;34m)\u001b[0m\u001b[0;34m)\u001b[0m\u001b[0;34m\u001b[0m\u001b[0;34m\u001b[0m\u001b[0m\n\u001b[0m\u001b[1;32m     15\u001b[0m \u001b[0;34m\u001b[0m\u001b[0m\n\u001b[1;32m     16\u001b[0m \u001b[0;34m\u001b[0m\u001b[0m\n",
      "\u001b[0;31mAttributeError\u001b[0m: 'list' object has no attribute 'max'"
     ]
    }
   ],
   "source": [
    "find_max_profit(stock_prices)"
   ]
  },
  {
   "cell_type": "code",
   "execution_count": null,
   "metadata": {},
   "outputs": [],
   "source": []
  },
  {
   "cell_type": "markdown",
   "metadata": {},
   "source": [
    "1) Assume you bought at each price at current_index (exclude last index/price)\n",
    "2) Find highest price not including current_index --> find max of unsorted list\n",
    "3) Subtract price at current index from price at max of unsorted list\n",
    "4) Log that in a variable: profit\n",
    "5) If profit[i] > profit[j] --> pass, if profit[i] < profit[j], profit = profit[j]\n"
   ]
  }
 ],
 "metadata": {
  "kernelspec": {
   "display_name": "Python 3",
   "language": "python",
   "name": "python3"
  },
  "language_info": {
   "codemirror_mode": {
    "name": "ipython",
    "version": 3
   },
   "file_extension": ".py",
   "mimetype": "text/x-python",
   "name": "python",
   "nbconvert_exporter": "python",
   "pygments_lexer": "ipython3",
   "version": "3.7.3"
  }
 },
 "nbformat": 4,
 "nbformat_minor": 2
}
